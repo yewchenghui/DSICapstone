{
 "cells": [
  {
   "cell_type": "markdown",
   "metadata": {},
   "source": [
    "### Modelling"
   ]
  },
  {
   "cell_type": "code",
   "execution_count": 1,
   "metadata": {},
   "outputs": [],
   "source": [
    "# Basic Imports\n",
    "import pandas as pd\n",
    "import numpy as np\n",
    "import matplotlib.pyplot as plt\n",
    "import seaborn as sns\n",
    "\n",
    "%matplotlib inline"
   ]
  },
  {
   "cell_type": "code",
   "execution_count": 2,
   "metadata": {},
   "outputs": [],
   "source": [
    "# Additional Imports\n",
    "from sklearn.model_selection import train_test_split, GridSearchCV, cross_val_score\n",
    "from sklearn.pipeline import make_pipeline, Pipeline\n",
    "from sklearn.feature_extraction.text import CountVectorizer, TfidfVectorizer, TfidfTransformer\n",
    "from sklearn.naive_bayes import MultinomialNB\n",
    "from sklearn.metrics import accuracy_score, roc_auc_score\n",
    "from sklearn.ensemble import RandomForestClassifier\n",
    "from sklearn.linear_model import LogisticRegression"
   ]
  },
  {
   "cell_type": "code",
   "execution_count": 3,
   "metadata": {},
   "outputs": [],
   "source": [
    "### Fixed Variables ###\n",
    "randstate = 91"
   ]
  },
  {
   "cell_type": "code",
   "execution_count": 4,
   "metadata": {
    "scrolled": true
   },
   "outputs": [
    {
     "data": {
      "text/html": [
       "<div>\n",
       "<style scoped>\n",
       "    .dataframe tbody tr th:only-of-type {\n",
       "        vertical-align: middle;\n",
       "    }\n",
       "\n",
       "    .dataframe tbody tr th {\n",
       "        vertical-align: top;\n",
       "    }\n",
       "\n",
       "    .dataframe thead th {\n",
       "        text-align: right;\n",
       "    }\n",
       "</style>\n",
       "<table border=\"1\" class=\"dataframe\">\n",
       "  <thead>\n",
       "    <tr style=\"text-align: right;\">\n",
       "      <th></th>\n",
       "      <th>Hotel_Address</th>\n",
       "      <th>Additional_Number_of_Scoring</th>\n",
       "      <th>Review_Date</th>\n",
       "      <th>Average_Score</th>\n",
       "      <th>Hotel_Name</th>\n",
       "      <th>Reviewer_Nationality</th>\n",
       "      <th>Negative_Review</th>\n",
       "      <th>Review_Total_Negative_Word_Counts</th>\n",
       "      <th>Total_Number_of_Reviews</th>\n",
       "      <th>Positive_Review</th>\n",
       "      <th>Review_Total_Positive_Word_Counts</th>\n",
       "      <th>Total_Number_of_Reviews_Reviewer_Has_Given</th>\n",
       "      <th>Reviewer_Score</th>\n",
       "      <th>Tags</th>\n",
       "      <th>days_since_review</th>\n",
       "      <th>lat</th>\n",
       "      <th>lng</th>\n",
       "      <th>Hotel_State</th>\n",
       "      <th>Review_Year</th>\n",
       "      <th>Review_Month</th>\n",
       "    </tr>\n",
       "  </thead>\n",
       "  <tbody>\n",
       "    <tr>\n",
       "      <th>0</th>\n",
       "      <td>s Gravesandestraat 55 Oost 1092 AA Amsterdam ...</td>\n",
       "      <td>194</td>\n",
       "      <td>8/3/2017</td>\n",
       "      <td>7.7</td>\n",
       "      <td>Hotel Arena</td>\n",
       "      <td>Russia</td>\n",
       "      <td>I am so angry that i made this post available...</td>\n",
       "      <td>397</td>\n",
       "      <td>1403</td>\n",
       "      <td>Only the park outside of the hotel was beauti...</td>\n",
       "      <td>11</td>\n",
       "      <td>7</td>\n",
       "      <td>2.9</td>\n",
       "      <td>[' Leisure trip ', ' Couple ', ' Duplex Double...</td>\n",
       "      <td>0 days</td>\n",
       "      <td>52.360576</td>\n",
       "      <td>4.915968</td>\n",
       "      <td>Netherlands</td>\n",
       "      <td>2017</td>\n",
       "      <td>8</td>\n",
       "    </tr>\n",
       "    <tr>\n",
       "      <th>1</th>\n",
       "      <td>s Gravesandestraat 55 Oost 1092 AA Amsterdam ...</td>\n",
       "      <td>194</td>\n",
       "      <td>8/3/2017</td>\n",
       "      <td>7.7</td>\n",
       "      <td>Hotel Arena</td>\n",
       "      <td>Ireland</td>\n",
       "      <td>No Negative</td>\n",
       "      <td>0</td>\n",
       "      <td>1403</td>\n",
       "      <td>No real complaints the hotel was great great ...</td>\n",
       "      <td>105</td>\n",
       "      <td>7</td>\n",
       "      <td>7.5</td>\n",
       "      <td>[' Leisure trip ', ' Couple ', ' Duplex Double...</td>\n",
       "      <td>0 days</td>\n",
       "      <td>52.360576</td>\n",
       "      <td>4.915968</td>\n",
       "      <td>Netherlands</td>\n",
       "      <td>2017</td>\n",
       "      <td>8</td>\n",
       "    </tr>\n",
       "    <tr>\n",
       "      <th>2</th>\n",
       "      <td>s Gravesandestraat 55 Oost 1092 AA Amsterdam ...</td>\n",
       "      <td>194</td>\n",
       "      <td>7/31/2017</td>\n",
       "      <td>7.7</td>\n",
       "      <td>Hotel Arena</td>\n",
       "      <td>Australia</td>\n",
       "      <td>Rooms are nice but for elderly a bit difficul...</td>\n",
       "      <td>42</td>\n",
       "      <td>1403</td>\n",
       "      <td>Location was good and staff were ok It is cut...</td>\n",
       "      <td>21</td>\n",
       "      <td>9</td>\n",
       "      <td>7.1</td>\n",
       "      <td>[' Leisure trip ', ' Family with young childre...</td>\n",
       "      <td>3 days</td>\n",
       "      <td>52.360576</td>\n",
       "      <td>4.915968</td>\n",
       "      <td>Netherlands</td>\n",
       "      <td>2017</td>\n",
       "      <td>7</td>\n",
       "    </tr>\n",
       "    <tr>\n",
       "      <th>3</th>\n",
       "      <td>s Gravesandestraat 55 Oost 1092 AA Amsterdam ...</td>\n",
       "      <td>194</td>\n",
       "      <td>7/31/2017</td>\n",
       "      <td>7.7</td>\n",
       "      <td>Hotel Arena</td>\n",
       "      <td>United Kingdom</td>\n",
       "      <td>My room was dirty and I was afraid to walk ba...</td>\n",
       "      <td>210</td>\n",
       "      <td>1403</td>\n",
       "      <td>Great location in nice surroundings the bar a...</td>\n",
       "      <td>26</td>\n",
       "      <td>1</td>\n",
       "      <td>3.8</td>\n",
       "      <td>[' Leisure trip ', ' Solo traveler ', ' Duplex...</td>\n",
       "      <td>3 days</td>\n",
       "      <td>52.360576</td>\n",
       "      <td>4.915968</td>\n",
       "      <td>Netherlands</td>\n",
       "      <td>2017</td>\n",
       "      <td>7</td>\n",
       "    </tr>\n",
       "    <tr>\n",
       "      <th>4</th>\n",
       "      <td>s Gravesandestraat 55 Oost 1092 AA Amsterdam ...</td>\n",
       "      <td>194</td>\n",
       "      <td>7/24/2017</td>\n",
       "      <td>7.7</td>\n",
       "      <td>Hotel Arena</td>\n",
       "      <td>New Zealand</td>\n",
       "      <td>You When I booked with your company on line y...</td>\n",
       "      <td>140</td>\n",
       "      <td>1403</td>\n",
       "      <td>Amazing location and building Romantic setting</td>\n",
       "      <td>8</td>\n",
       "      <td>3</td>\n",
       "      <td>6.7</td>\n",
       "      <td>[' Leisure trip ', ' Couple ', ' Suite ', ' St...</td>\n",
       "      <td>10 days</td>\n",
       "      <td>52.360576</td>\n",
       "      <td>4.915968</td>\n",
       "      <td>Netherlands</td>\n",
       "      <td>2017</td>\n",
       "      <td>7</td>\n",
       "    </tr>\n",
       "  </tbody>\n",
       "</table>\n",
       "</div>"
      ],
      "text/plain": [
       "                                       Hotel_Address  \\\n",
       "0   s Gravesandestraat 55 Oost 1092 AA Amsterdam ...   \n",
       "1   s Gravesandestraat 55 Oost 1092 AA Amsterdam ...   \n",
       "2   s Gravesandestraat 55 Oost 1092 AA Amsterdam ...   \n",
       "3   s Gravesandestraat 55 Oost 1092 AA Amsterdam ...   \n",
       "4   s Gravesandestraat 55 Oost 1092 AA Amsterdam ...   \n",
       "\n",
       "   Additional_Number_of_Scoring Review_Date  Average_Score   Hotel_Name  \\\n",
       "0                           194    8/3/2017            7.7  Hotel Arena   \n",
       "1                           194    8/3/2017            7.7  Hotel Arena   \n",
       "2                           194   7/31/2017            7.7  Hotel Arena   \n",
       "3                           194   7/31/2017            7.7  Hotel Arena   \n",
       "4                           194   7/24/2017            7.7  Hotel Arena   \n",
       "\n",
       "  Reviewer_Nationality                                    Negative_Review  \\\n",
       "0              Russia    I am so angry that i made this post available...   \n",
       "1             Ireland                                         No Negative   \n",
       "2           Australia    Rooms are nice but for elderly a bit difficul...   \n",
       "3      United Kingdom    My room was dirty and I was afraid to walk ba...   \n",
       "4         New Zealand    You When I booked with your company on line y...   \n",
       "\n",
       "   Review_Total_Negative_Word_Counts  Total_Number_of_Reviews  \\\n",
       "0                                397                     1403   \n",
       "1                                  0                     1403   \n",
       "2                                 42                     1403   \n",
       "3                                210                     1403   \n",
       "4                                140                     1403   \n",
       "\n",
       "                                     Positive_Review  \\\n",
       "0   Only the park outside of the hotel was beauti...   \n",
       "1   No real complaints the hotel was great great ...   \n",
       "2   Location was good and staff were ok It is cut...   \n",
       "3   Great location in nice surroundings the bar a...   \n",
       "4    Amazing location and building Romantic setting    \n",
       "\n",
       "   Review_Total_Positive_Word_Counts  \\\n",
       "0                                 11   \n",
       "1                                105   \n",
       "2                                 21   \n",
       "3                                 26   \n",
       "4                                  8   \n",
       "\n",
       "   Total_Number_of_Reviews_Reviewer_Has_Given  Reviewer_Score  \\\n",
       "0                                           7             2.9   \n",
       "1                                           7             7.5   \n",
       "2                                           9             7.1   \n",
       "3                                           1             3.8   \n",
       "4                                           3             6.7   \n",
       "\n",
       "                                                Tags days_since_review  \\\n",
       "0  [' Leisure trip ', ' Couple ', ' Duplex Double...            0 days   \n",
       "1  [' Leisure trip ', ' Couple ', ' Duplex Double...            0 days   \n",
       "2  [' Leisure trip ', ' Family with young childre...            3 days   \n",
       "3  [' Leisure trip ', ' Solo traveler ', ' Duplex...            3 days   \n",
       "4  [' Leisure trip ', ' Couple ', ' Suite ', ' St...           10 days   \n",
       "\n",
       "         lat       lng  Hotel_State  Review_Year  Review_Month  \n",
       "0  52.360576  4.915968  Netherlands         2017             8  \n",
       "1  52.360576  4.915968  Netherlands         2017             8  \n",
       "2  52.360576  4.915968  Netherlands         2017             7  \n",
       "3  52.360576  4.915968  Netherlands         2017             7  \n",
       "4  52.360576  4.915968  Netherlands         2017             7  "
      ]
     },
     "execution_count": 4,
     "metadata": {},
     "output_type": "execute_result"
    }
   ],
   "source": [
    "# Load in CSV and preview\n",
    "hoteldf = pd.read_csv(\"HR_EDA.csv\", index_col=0)\n",
    "hoteldf.head()"
   ]
  },
  {
   "cell_type": "markdown",
   "metadata": {},
   "source": [
    "### NLP Section"
   ]
  },
  {
   "cell_type": "code",
   "execution_count": 5,
   "metadata": {},
   "outputs": [],
   "source": [
    "from nltk.corpus import stopwords\n",
    "stop = stopwords.words('english')\n",
    "stop += [\"hotel\", \"hotels\", \"everything\", \"could\", \"would\", \"the\", \"and\", \"were\", \"are\", \"is\", \"was\", \"a\", \"very\", \"positive\", \"negative\"]  # to add on more stopwords"
   ]
  },
  {
   "cell_type": "code",
   "execution_count": 6,
   "metadata": {
    "scrolled": true
   },
   "outputs": [
    {
     "data": {
      "text/plain": [
       "971        They have followed through special requests C...\n",
       "972        Great location and very comfortable rooms Roo...\n",
       "973        We had the most basic room which was great va...\n",
       "974        Standard rooms are very comfortable Good cent...\n",
       "975        Very large room Hidden courtyard view with ba...\n",
       "976                             Location and room excellent\n",
       "977        Guest svc manager Francesco was very helpful ...\n",
       "978          Room was great Bathroom was immaculately clean\n",
       "979        Room and bathroom excellent Really comfortabl...\n",
       "980        Staff really friendly bed was extremely comfy...\n",
       "981        we were very pleased with the Hotel and were ...\n",
       "982        Room was clean and well appointed Location wa...\n",
       "983        Nice room Modern and cool Bar space in lobby ...\n",
       "984        Being new in this area the conceierge service...\n",
       "985        Brilliant location so close to the tube Room ...\n",
       "986        Nice room nice presentation of hotel receptio...\n",
       "987        The location was excellent and within a decen...\n",
       "988        We were offered an upgrade for a small supple...\n",
       "989        Very comfortable room Spacious bathroom Excel...\n",
       "990        Easy to reach Covent Garden Soho and City How...\n",
       "991        Book a room that comes with access to the Clu...\n",
       "992        Although it s a fairly big hotel the overall ...\n",
       "993        Very clean large rooms with high value toilet...\n",
       "994        This is without question one of London finest...\n",
       "995        Great location room was outstanding beds were...\n",
       "996        The hotel gave us a complimentary upgrade to ...\n",
       "998        The design facilities and location of the hot...\n",
       "999        Staff were lovely reception sent a card and a...\n",
       "1000       The bathroom was light pleasant and very clea...\n",
       "1001       The room was clean and comfortable bathroom w...\n",
       "                                ...                        \n",
       "512612                                  Everything was good\n",
       "512613      Excellent location rooms facilities and staffs \n",
       "512614                           Swimming pool on the roof \n",
       "512615                  Very nice clean and staff was great\n",
       "512616        The location lobby renovated room staff food \n",
       "512617                   The room was nice location perfect\n",
       "512618     Staff Service was excellent Everybody was ext...\n",
       "512619                                           Everything\n",
       "512620                                   Everything perfect\n",
       "512622                            Service and roof top pool\n",
       "512624                                           Everything\n",
       "512625                      Good sized and comfortable room\n",
       "512626                        Best place to stay in London \n",
       "512627     Amazing Staff They went out of their way to m...\n",
       "512628     Extremely friendly staff Great location and i...\n",
       "512629     It was my wife s Birthday the staff new this ...\n",
       "512630                                           Staff Food\n",
       "512631               Everything about this wonderful hotel \n",
       "512632                  Personal customer service was great\n",
       "512634                         Fantastic impeccable service\n",
       "512635                Staff excellent Antonio was fantastic\n",
       "512636     The staff is very professional and go beyond ...\n",
       "512637                         The location of the property\n",
       "512638                                  I like the location\n",
       "512639            Is one from the best hotels I ever tried \n",
       "512640     personolized and high class service ar all level\n",
       "512641     Very nice hotel has a good feel It is clean e...\n",
       "512642                            Regular visitor Excellent\n",
       "512643     Fabulous hotel Nothing was too much trouble T...\n",
       "512644                         Welcoming staff at reception\n",
       "Name: Positive_Review, Length: 132578, dtype: object"
      ]
     },
     "execution_count": 6,
     "metadata": {},
     "output_type": "execute_result"
    }
   ],
   "source": [
    "# Top Positive Comments\n",
    "hoteldf[(hoteldf[\"Average_Score\"] >= 8.8) & (hoteldf[\"Positive_Review\"] != \"No Positive\")][\"Positive_Review\"]"
   ]
  },
  {
   "cell_type": "code",
   "execution_count": 7,
   "metadata": {},
   "outputs": [],
   "source": [
    "# Declaring those with scores more than 8.8 as Positive Reviews\n",
    "X = hoteldf[(hoteldf[\"Average_Score\"] >= 8.8) & (hoteldf[\"Positive_Review\"] != \"No Positive\")][\"Positive_Review\"]\n",
    "y = hoteldf[(hoteldf[\"Average_Score\"] >= 8.8) & (hoteldf[\"Positive_Review\"] != \"No Positive\")][\"Reviewer_Score\"]"
   ]
  },
  {
   "cell_type": "code",
   "execution_count": 8,
   "metadata": {},
   "outputs": [],
   "source": [
    "cvec = CountVectorizer(stop_words = stop, lowercase=True)\n",
    "X1 = cvec.fit_transform(X)\n",
    "sum_words = X1.sum(axis=0)\n",
    "words_freq = [(word, sum_words[0, idx]) for word, idx in cvec.vocabulary_.items()]\n",
    "words_freq = sorted(words_freq, key = lambda x: x[1], reverse=True)"
   ]
  },
  {
   "cell_type": "code",
   "execution_count": 9,
   "metadata": {},
   "outputs": [],
   "source": [
    "genposcount = pd.DataFrame(words_freq, columns=[\"word\", \"count\"]).head(10)"
   ]
  },
  {
   "cell_type": "code",
   "execution_count": 10,
   "metadata": {},
   "outputs": [],
   "source": [
    "# Declaring that those below 8.1 have negative reviews.\n",
    "X = hoteldf[(hoteldf[\"Average_Score\"] <= 8.1) & (hoteldf[\"Negative_Review\"] != \"No Negative\")][\"Negative_Review\"]\n",
    "y = hoteldf[(hoteldf[\"Average_Score\"] <= 8.1) & (hoteldf[\"Negative_Review\"] != \"No Negative\")][\"Reviewer_Score\"]"
   ]
  },
  {
   "cell_type": "code",
   "execution_count": 11,
   "metadata": {},
   "outputs": [],
   "source": [
    "cvec = CountVectorizer(stop_words = stop, lowercase=True)\n",
    "X1 = cvec.fit_transform(X)\n",
    "sum_words = X1.sum(axis=0)\n",
    "words_freq = [(word, sum_words[0, idx]) for word, idx in cvec.vocabulary_.items()]\n",
    "words_freq = sorted(words_freq, key = lambda x: x[1], reverse=True)"
   ]
  },
  {
   "cell_type": "code",
   "execution_count": 12,
   "metadata": {
    "scrolled": true
   },
   "outputs": [],
   "source": [
    "gennegcount = pd.DataFrame(words_freq, columns=[\"word\", \"count\"]).head(10)"
   ]
  },
  {
   "cell_type": "code",
   "execution_count": 13,
   "metadata": {},
   "outputs": [
    {
     "data": {
      "text/html": [
       "<div>\n",
       "<style scoped>\n",
       "    .dataframe tbody tr th:only-of-type {\n",
       "        vertical-align: middle;\n",
       "    }\n",
       "\n",
       "    .dataframe tbody tr th {\n",
       "        vertical-align: top;\n",
       "    }\n",
       "\n",
       "    .dataframe thead th {\n",
       "        text-align: right;\n",
       "    }\n",
       "</style>\n",
       "<table border=\"1\" class=\"dataframe\">\n",
       "  <thead>\n",
       "    <tr style=\"text-align: right;\">\n",
       "      <th></th>\n",
       "      <th>word</th>\n",
       "      <th>count</th>\n",
       "      <th>word</th>\n",
       "      <th>count</th>\n",
       "    </tr>\n",
       "  </thead>\n",
       "  <tbody>\n",
       "    <tr>\n",
       "      <th>0</th>\n",
       "      <td>staff</td>\n",
       "      <td>63741</td>\n",
       "      <td>room</td>\n",
       "      <td>70579</td>\n",
       "    </tr>\n",
       "    <tr>\n",
       "      <th>1</th>\n",
       "      <td>location</td>\n",
       "      <td>49651</td>\n",
       "      <td>small</td>\n",
       "      <td>21697</td>\n",
       "    </tr>\n",
       "    <tr>\n",
       "      <th>2</th>\n",
       "      <td>room</td>\n",
       "      <td>41962</td>\n",
       "      <td>breakfast</td>\n",
       "      <td>18817</td>\n",
       "    </tr>\n",
       "    <tr>\n",
       "      <th>3</th>\n",
       "      <td>great</td>\n",
       "      <td>35559</td>\n",
       "      <td>rooms</td>\n",
       "      <td>14968</td>\n",
       "    </tr>\n",
       "    <tr>\n",
       "      <th>4</th>\n",
       "      <td>friendly</td>\n",
       "      <td>26570</td>\n",
       "      <td>staff</td>\n",
       "      <td>14893</td>\n",
       "    </tr>\n",
       "    <tr>\n",
       "      <th>5</th>\n",
       "      <td>good</td>\n",
       "      <td>24755</td>\n",
       "      <td>bed</td>\n",
       "      <td>12782</td>\n",
       "    </tr>\n",
       "    <tr>\n",
       "      <th>6</th>\n",
       "      <td>helpful</td>\n",
       "      <td>23703</td>\n",
       "      <td>bathroom</td>\n",
       "      <td>10920</td>\n",
       "    </tr>\n",
       "    <tr>\n",
       "      <th>7</th>\n",
       "      <td>breakfast</td>\n",
       "      <td>22764</td>\n",
       "      <td>one</td>\n",
       "      <td>10231</td>\n",
       "    </tr>\n",
       "    <tr>\n",
       "      <th>8</th>\n",
       "      <td>excellent</td>\n",
       "      <td>21226</td>\n",
       "      <td>night</td>\n",
       "      <td>9012</td>\n",
       "    </tr>\n",
       "    <tr>\n",
       "      <th>9</th>\n",
       "      <td>nice</td>\n",
       "      <td>19051</td>\n",
       "      <td>bit</td>\n",
       "      <td>8680</td>\n",
       "    </tr>\n",
       "  </tbody>\n",
       "</table>\n",
       "</div>"
      ],
      "text/plain": [
       "        word  count       word  count\n",
       "0      staff  63741       room  70579\n",
       "1   location  49651      small  21697\n",
       "2       room  41962  breakfast  18817\n",
       "3      great  35559      rooms  14968\n",
       "4   friendly  26570      staff  14893\n",
       "5       good  24755        bed  12782\n",
       "6    helpful  23703   bathroom  10920\n",
       "7  breakfast  22764        one  10231\n",
       "8  excellent  21226      night   9012\n",
       "9       nice  19051        bit   8680"
      ]
     },
     "execution_count": 13,
     "metadata": {},
     "output_type": "execute_result"
    }
   ],
   "source": [
    "pd.concat([genposcount, gennegcount], axis=1)"
   ]
  },
  {
   "cell_type": "markdown",
   "metadata": {},
   "source": [
    "### Attempting to classify if Review is Positive or Negative"
   ]
  },
  {
   "cell_type": "code",
   "execution_count": 14,
   "metadata": {},
   "outputs": [],
   "source": [
    "# Imports\n",
    "from sklearn.feature_extraction.text import CountVectorizer\n",
    "from sklearn.feature_extraction.text import TfidfTransformer\n",
    "from nltk import WordNetLemmatizer\n",
    "from sklearn.pipeline import Pipeline\n",
    "import seaborn as sns"
   ]
  },
  {
   "cell_type": "code",
   "execution_count": 15,
   "metadata": {},
   "outputs": [],
   "source": [
    "# Set a copy of hoteldf for processing of Positive Reviews\n",
    "df1 = hoteldf.copy()\n",
    "df1[\"is_positive\"] = 0\n",
    "df1.loc[df1[df1[\"Positive_Review\"].str.lower() != \"no positive\"].index, \"is_positive\"] = 1\n",
    "df1.loc[df1[df1[\"Positive_Review\"].str.lower() == \" nothing\"].index, \"is_positive\"] = 0\n",
    "df1.loc[df1[df1[\"Positive_Review\"].str.lower() == \" nothing \"].index, \"is_positive\"] = 0\n",
    "df1.loc[df1[df1[\"Positive_Review\"].str.lower() == \" nothing at all\"].index, \"is_positive\"] = 0\n",
    "df1.loc[df1[df1[\"Positive_Review\"].str.lower() == \" nothing at all \"].index, \"is_positive\"] = 0\n",
    "df1 = df1[(df1[\"Average_Score\"] > 8.8) & (df1[\"is_positive\"] == 1)][[\"Positive_Review\", \"is_positive\"]].reset_index(drop=True)\n",
    "df1.columns = [\"Review\", \"is_positive\"]"
   ]
  },
  {
   "cell_type": "code",
   "execution_count": 16,
   "metadata": {
    "scrolled": true
   },
   "outputs": [],
   "source": [
    "# Set a copy of hoteldf for processing of Negative Reviews\n",
    "df2 = hoteldf.copy()\n",
    "df2[\"is_positive\"] = 1\n",
    "df2.loc[df2[df2[\"Negative_Review\"].str.lower() != \"no negative\"].index, \"is_positive\"] = 0\n",
    "df2.loc[df2[df2[\"Negative_Review\"].str.lower() == \" nothing\"].index, \"is_positive\"] = 1\n",
    "df2.loc[df2[df2[\"Negative_Review\"].str.lower() == \" nothing \"].index, \"is_positive\"] = 1\n",
    "df2.loc[df2[df2[\"Negative_Review\"].str.lower() == \" nothing at all\"].index, \"is_positive\"] = 1\n",
    "df2.loc[df2[df2[\"Negative_Review\"].str.lower() == \" nothing at all \"].index, \"is_positive\"] = 1\n",
    "df2 = df2[(df2[\"Average_Score\"] < 8.1) & (df2[\"is_positive\"] == 0)][[\"Negative_Review\", \"is_positive\"]].reset_index(drop=True)\n",
    "df2.columns = [\"Review\", \"is_positive\"]"
   ]
  },
  {
   "cell_type": "code",
   "execution_count": 17,
   "metadata": {},
   "outputs": [],
   "source": [
    "nndf = pd.concat([df1, df2]).reset_index(drop=True)"
   ]
  },
  {
   "cell_type": "code",
   "execution_count": 18,
   "metadata": {},
   "outputs": [
    {
     "data": {
      "text/html": [
       "<div>\n",
       "<style scoped>\n",
       "    .dataframe tbody tr th:only-of-type {\n",
       "        vertical-align: middle;\n",
       "    }\n",
       "\n",
       "    .dataframe tbody tr th {\n",
       "        vertical-align: top;\n",
       "    }\n",
       "\n",
       "    .dataframe thead th {\n",
       "        text-align: right;\n",
       "    }\n",
       "</style>\n",
       "<table border=\"1\" class=\"dataframe\">\n",
       "  <thead>\n",
       "    <tr style=\"text-align: right;\">\n",
       "      <th></th>\n",
       "      <th>Review</th>\n",
       "      <th>is_positive</th>\n",
       "    </tr>\n",
       "  </thead>\n",
       "  <tbody>\n",
       "    <tr>\n",
       "      <th>35267</th>\n",
       "      <td>Good location Front desk staff very helpful e...</td>\n",
       "      <td>1</td>\n",
       "    </tr>\n",
       "    <tr>\n",
       "      <th>109370</th>\n",
       "      <td>They delivered our room service to the wrong ...</td>\n",
       "      <td>0</td>\n",
       "    </tr>\n",
       "    <tr>\n",
       "      <th>169240</th>\n",
       "      <td>Room was warned down with limited facilities ...</td>\n",
       "      <td>0</td>\n",
       "    </tr>\n",
       "    <tr>\n",
       "      <th>132890</th>\n",
       "      <td>The room was small There was no minibar</td>\n",
       "      <td>0</td>\n",
       "    </tr>\n",
       "    <tr>\n",
       "      <th>168463</th>\n",
       "      <td>Took to long to get cooked breakfast</td>\n",
       "      <td>0</td>\n",
       "    </tr>\n",
       "    <tr>\n",
       "      <th>109448</th>\n",
       "      <td>Not enough variety for breakfast and not wort...</td>\n",
       "      <td>0</td>\n",
       "    </tr>\n",
       "    <tr>\n",
       "      <th>148538</th>\n",
       "      <td>Kettle cable was too short to reach into the ...</td>\n",
       "      <td>0</td>\n",
       "    </tr>\n",
       "    <tr>\n",
       "      <th>63939</th>\n",
       "      <td>Everything was just perfect beautiful room an...</td>\n",
       "      <td>1</td>\n",
       "    </tr>\n",
       "  </tbody>\n",
       "</table>\n",
       "</div>"
      ],
      "text/plain": [
       "                                                   Review  is_positive\n",
       "35267    Good location Front desk staff very helpful e...            1\n",
       "109370   They delivered our room service to the wrong ...            0\n",
       "169240   Room was warned down with limited facilities ...            0\n",
       "132890           The room was small There was no minibar             0\n",
       "168463               Took to long to get cooked breakfast            0\n",
       "109448   Not enough variety for breakfast and not wort...            0\n",
       "148538   Kettle cable was too short to reach into the ...            0\n",
       "63939    Everything was just perfect beautiful room an...            1"
      ]
     },
     "execution_count": 18,
     "metadata": {},
     "output_type": "execute_result"
    }
   ],
   "source": [
    "nndf.sample(8)"
   ]
  },
  {
   "cell_type": "code",
   "execution_count": 19,
   "metadata": {},
   "outputs": [],
   "source": [
    "# Combined df1 & df2 for NLP Review classification\n",
    "nlpdf = pd.concat([df1, df2]).reset_index(drop=True)"
   ]
  },
  {
   "cell_type": "code",
   "execution_count": 20,
   "metadata": {},
   "outputs": [
    {
     "data": {
      "image/png": "[encoded data removed]",
      "text/plain": [
       "<Figure size 432x288 with 1 Axes>"
      ]
     },
     "metadata": {},
     "output_type": "display_data"
    }
   ],
   "source": [
    "# Plot to check if there is class imbalance\n",
    "nlpdf[\"is_positive\"].value_counts().sort_values().plot.bar()\n",
    "plt.title(\"Bar Plot for Number of Positive Reviews\")\n",
    "plt.xlabel(\"Negative (0), Positive (1)\")\n",
    "plt.show()"
   ]
  },
  {
   "cell_type": "code",
   "execution_count": 21,
   "metadata": {},
   "outputs": [],
   "source": [
    "baseline = nlpdf[\"is_positive\"].value_counts()[1] / nlpdf[\"is_positive\"].value_counts().sum()"
   ]
  },
  {
   "cell_type": "code",
   "execution_count": 22,
   "metadata": {},
   "outputs": [],
   "source": [
    "# Lemmy all the nouns to simple forms\n",
    "trial1 = []\n",
    "lemmatizer = WordNetLemmatizer()\n",
    "for item in nlpdf[\"Review\"]:\n",
    "    trial1.append(\" \".join([lemmatizer.lemmatize(i) for i in item.lower().split()]))"
   ]
  },
  {
   "cell_type": "code",
   "execution_count": 23,
   "metadata": {
    "scrolled": true
   },
   "outputs": [
    {
     "data": {
      "text/html": [
       "<div>\n",
       "<style scoped>\n",
       "    .dataframe tbody tr th:only-of-type {\n",
       "        vertical-align: middle;\n",
       "    }\n",
       "\n",
       "    .dataframe tbody tr th {\n",
       "        vertical-align: top;\n",
       "    }\n",
       "\n",
       "    .dataframe thead th {\n",
       "        text-align: right;\n",
       "    }\n",
       "</style>\n",
       "<table border=\"1\" class=\"dataframe\">\n",
       "  <thead>\n",
       "    <tr style=\"text-align: right;\">\n",
       "      <th></th>\n",
       "      <th>Review</th>\n",
       "      <th>is_positive</th>\n",
       "      <th>length</th>\n",
       "    </tr>\n",
       "  </thead>\n",
       "  <tbody>\n",
       "    <tr>\n",
       "      <th>0</th>\n",
       "      <td>they have followed through special request com...</td>\n",
       "      <td>1</td>\n",
       "      <td>15</td>\n",
       "    </tr>\n",
       "    <tr>\n",
       "      <th>1</th>\n",
       "      <td>great location and very comfortable room room ...</td>\n",
       "      <td>1</td>\n",
       "      <td>22</td>\n",
       "    </tr>\n",
       "    <tr>\n",
       "      <th>2</th>\n",
       "      <td>we had the most basic room which wa great valu...</td>\n",
       "      <td>1</td>\n",
       "      <td>16</td>\n",
       "    </tr>\n",
       "    <tr>\n",
       "      <th>3</th>\n",
       "      <td>standard room are very comfortable good centra...</td>\n",
       "      <td>1</td>\n",
       "      <td>8</td>\n",
       "    </tr>\n",
       "    <tr>\n",
       "      <th>4</th>\n",
       "      <td>very large room hidden courtyard view with bac...</td>\n",
       "      <td>1</td>\n",
       "      <td>24</td>\n",
       "    </tr>\n",
       "    <tr>\n",
       "      <th>5</th>\n",
       "      <td>location and room excellent</td>\n",
       "      <td>1</td>\n",
       "      <td>4</td>\n",
       "    </tr>\n",
       "    <tr>\n",
       "      <th>6</th>\n",
       "      <td>guest svc manager francesco wa very helpful wi...</td>\n",
       "      <td>1</td>\n",
       "      <td>49</td>\n",
       "    </tr>\n",
       "    <tr>\n",
       "      <th>7</th>\n",
       "      <td>room wa great bathroom wa immaculately clean</td>\n",
       "      <td>1</td>\n",
       "      <td>7</td>\n",
       "    </tr>\n",
       "    <tr>\n",
       "      <th>8</th>\n",
       "      <td>room and bathroom excellent really comfortable...</td>\n",
       "      <td>1</td>\n",
       "      <td>77</td>\n",
       "    </tr>\n",
       "    <tr>\n",
       "      <th>9</th>\n",
       "      <td>staff really friendly bed wa extremely comfy a...</td>\n",
       "      <td>1</td>\n",
       "      <td>35</td>\n",
       "    </tr>\n",
       "    <tr>\n",
       "      <th>10</th>\n",
       "      <td>we were very pleased with the hotel and were e...</td>\n",
       "      <td>1</td>\n",
       "      <td>26</td>\n",
       "    </tr>\n",
       "    <tr>\n",
       "      <th>11</th>\n",
       "      <td>room wa clean and well appointed location wa g...</td>\n",
       "      <td>1</td>\n",
       "      <td>26</td>\n",
       "    </tr>\n",
       "    <tr>\n",
       "      <th>12</th>\n",
       "      <td>nice room modern and cool bar space in lobby v...</td>\n",
       "      <td>1</td>\n",
       "      <td>11</td>\n",
       "    </tr>\n",
       "    <tr>\n",
       "      <th>13</th>\n",
       "      <td>being new in this area the conceierge service ...</td>\n",
       "      <td>1</td>\n",
       "      <td>30</td>\n",
       "    </tr>\n",
       "    <tr>\n",
       "      <th>14</th>\n",
       "      <td>brilliant location so close to the tube room w...</td>\n",
       "      <td>1</td>\n",
       "      <td>31</td>\n",
       "    </tr>\n",
       "    <tr>\n",
       "      <th>15</th>\n",
       "      <td>nice room nice presentation of hotel reception...</td>\n",
       "      <td>1</td>\n",
       "      <td>8</td>\n",
       "    </tr>\n",
       "    <tr>\n",
       "      <th>16</th>\n",
       "      <td>the location wa excellent and within a decent ...</td>\n",
       "      <td>1</td>\n",
       "      <td>113</td>\n",
       "    </tr>\n",
       "    <tr>\n",
       "      <th>17</th>\n",
       "      <td>we were offered an upgrade for a small supplem...</td>\n",
       "      <td>1</td>\n",
       "      <td>66</td>\n",
       "    </tr>\n",
       "    <tr>\n",
       "      <th>18</th>\n",
       "      <td>very comfortable room spacious bathroom excell...</td>\n",
       "      <td>1</td>\n",
       "      <td>9</td>\n",
       "    </tr>\n",
       "    <tr>\n",
       "      <th>19</th>\n",
       "      <td>easy to reach covent garden soho and city howe...</td>\n",
       "      <td>1</td>\n",
       "      <td>29</td>\n",
       "    </tr>\n",
       "    <tr>\n",
       "      <th>20</th>\n",
       "      <td>book a room that come with access to the club ...</td>\n",
       "      <td>1</td>\n",
       "      <td>61</td>\n",
       "    </tr>\n",
       "    <tr>\n",
       "      <th>21</th>\n",
       "      <td>although it s a fairly big hotel the overall v...</td>\n",
       "      <td>1</td>\n",
       "      <td>43</td>\n",
       "    </tr>\n",
       "    <tr>\n",
       "      <th>22</th>\n",
       "      <td>very clean large room with high value toiletry...</td>\n",
       "      <td>1</td>\n",
       "      <td>15</td>\n",
       "    </tr>\n",
       "    <tr>\n",
       "      <th>23</th>\n",
       "      <td>this is without question one of london finest ...</td>\n",
       "      <td>1</td>\n",
       "      <td>30</td>\n",
       "    </tr>\n",
       "    <tr>\n",
       "      <th>24</th>\n",
       "      <td>great location room wa outstanding bed were so...</td>\n",
       "      <td>1</td>\n",
       "      <td>28</td>\n",
       "    </tr>\n",
       "    <tr>\n",
       "      <th>25</th>\n",
       "      <td>the hotel gave u a complimentary upgrade to a ...</td>\n",
       "      <td>1</td>\n",
       "      <td>26</td>\n",
       "    </tr>\n",
       "    <tr>\n",
       "      <th>26</th>\n",
       "      <td>the design facility and location of the hotel ...</td>\n",
       "      <td>1</td>\n",
       "      <td>15</td>\n",
       "    </tr>\n",
       "    <tr>\n",
       "      <th>27</th>\n",
       "      <td>staff were lovely reception sent a card and a ...</td>\n",
       "      <td>1</td>\n",
       "      <td>44</td>\n",
       "    </tr>\n",
       "    <tr>\n",
       "      <th>28</th>\n",
       "      <td>the bathroom wa light pleasant and very clean ...</td>\n",
       "      <td>1</td>\n",
       "      <td>23</td>\n",
       "    </tr>\n",
       "    <tr>\n",
       "      <th>29</th>\n",
       "      <td>the room wa clean and comfortable bathroom wa ...</td>\n",
       "      <td>1</td>\n",
       "      <td>11</td>\n",
       "    </tr>\n",
       "    <tr>\n",
       "      <th>...</th>\n",
       "      <td>...</td>\n",
       "      <td>...</td>\n",
       "      <td>...</td>\n",
       "    </tr>\n",
       "    <tr>\n",
       "      <th>197383</th>\n",
       "      <td>very small bedroom</td>\n",
       "      <td>0</td>\n",
       "      <td>3</td>\n",
       "    </tr>\n",
       "    <tr>\n",
       "      <th>197384</th>\n",
       "      <td>single bed wasn t at all comfortable next to w...</td>\n",
       "      <td>0</td>\n",
       "      <td>27</td>\n",
       "    </tr>\n",
       "    <tr>\n",
       "      <th>197385</th>\n",
       "      <td>n a</td>\n",
       "      <td>0</td>\n",
       "      <td>2</td>\n",
       "    </tr>\n",
       "    <tr>\n",
       "      <th>197386</th>\n",
       "      <td>having to pay to use the gym and pool</td>\n",
       "      <td>0</td>\n",
       "      <td>9</td>\n",
       "    </tr>\n",
       "    <tr>\n",
       "      <th>197387</th>\n",
       "      <td>everything else</td>\n",
       "      <td>0</td>\n",
       "      <td>2</td>\n",
       "    </tr>\n",
       "    <tr>\n",
       "      <th>197388</th>\n",
       "      <td>service charge being imposed even when sat at ...</td>\n",
       "      <td>0</td>\n",
       "      <td>10</td>\n",
       "    </tr>\n",
       "    <tr>\n",
       "      <th>197389</th>\n",
       "      <td>none</td>\n",
       "      <td>0</td>\n",
       "      <td>1</td>\n",
       "    </tr>\n",
       "    <tr>\n",
       "      <th>197390</th>\n",
       "      <td>the room wa tiny even after being upgraded</td>\n",
       "      <td>0</td>\n",
       "      <td>8</td>\n",
       "    </tr>\n",
       "    <tr>\n",
       "      <th>197391</th>\n",
       "      <td>the staff are rude and you have to pay to use ...</td>\n",
       "      <td>0</td>\n",
       "      <td>22</td>\n",
       "    </tr>\n",
       "    <tr>\n",
       "      <th>197392</th>\n",
       "      <td>booked a club executive room very disappointed...</td>\n",
       "      <td>0</td>\n",
       "      <td>24</td>\n",
       "    </tr>\n",
       "    <tr>\n",
       "      <th>197393</th>\n",
       "      <td>had to pay to swim</td>\n",
       "      <td>0</td>\n",
       "      <td>5</td>\n",
       "    </tr>\n",
       "    <tr>\n",
       "      <th>197394</th>\n",
       "      <td>incredibly small room spa and wifi come at add...</td>\n",
       "      <td>0</td>\n",
       "      <td>14</td>\n",
       "    </tr>\n",
       "    <tr>\n",
       "      <th>197395</th>\n",
       "      <td>one of the lift wa broken so had to wait age a...</td>\n",
       "      <td>0</td>\n",
       "      <td>18</td>\n",
       "    </tr>\n",
       "    <tr>\n",
       "      <th>197396</th>\n",
       "      <td>paid wi fi</td>\n",
       "      <td>0</td>\n",
       "      <td>3</td>\n",
       "    </tr>\n",
       "    <tr>\n",
       "      <th>197397</th>\n",
       "      <td>no free wifi</td>\n",
       "      <td>0</td>\n",
       "      <td>3</td>\n",
       "    </tr>\n",
       "    <tr>\n",
       "      <th>197398</th>\n",
       "      <td>room seemed small considering it wa advertised...</td>\n",
       "      <td>0</td>\n",
       "      <td>11</td>\n",
       "    </tr>\n",
       "    <tr>\n",
       "      <th>197399</th>\n",
       "      <td>small room no frill</td>\n",
       "      <td>0</td>\n",
       "      <td>4</td>\n",
       "    </tr>\n",
       "    <tr>\n",
       "      <th>197400</th>\n",
       "      <td>the cost of wifi just a joke when you also exp...</td>\n",
       "      <td>0</td>\n",
       "      <td>19</td>\n",
       "    </tr>\n",
       "    <tr>\n",
       "      <th>197401</th>\n",
       "      <td>room didn t look like the picture on booking c...</td>\n",
       "      <td>0</td>\n",
       "      <td>16</td>\n",
       "    </tr>\n",
       "    <tr>\n",
       "      <th>197402</th>\n",
       "      <td>poor wifi</td>\n",
       "      <td>0</td>\n",
       "      <td>2</td>\n",
       "    </tr>\n",
       "    <tr>\n",
       "      <th>197403</th>\n",
       "      <td>8 00 cost for the use of the gym</td>\n",
       "      <td>0</td>\n",
       "      <td>9</td>\n",
       "    </tr>\n",
       "    <tr>\n",
       "      <th>197404</th>\n",
       "      <td>room wa very small</td>\n",
       "      <td>0</td>\n",
       "      <td>4</td>\n",
       "    </tr>\n",
       "    <tr>\n",
       "      <th>197405</th>\n",
       "      <td>this hotel wanted to charge for wi fi they als...</td>\n",
       "      <td>0</td>\n",
       "      <td>20</td>\n",
       "    </tr>\n",
       "    <tr>\n",
       "      <th>197406</th>\n",
       "      <td>extremly small bathroom room not very spacious</td>\n",
       "      <td>0</td>\n",
       "      <td>7</td>\n",
       "    </tr>\n",
       "    <tr>\n",
       "      <th>197407</th>\n",
       "      <td>10 for wifi even premier inn it s free</td>\n",
       "      <td>0</td>\n",
       "      <td>9</td>\n",
       "    </tr>\n",
       "    <tr>\n",
       "      <th>197408</th>\n",
       "      <td>breakfast satisfactory but boring</td>\n",
       "      <td>0</td>\n",
       "      <td>4</td>\n",
       "    </tr>\n",
       "    <tr>\n",
       "      <th>197409</th>\n",
       "      <td>internet should never ever be payable in a hotel</td>\n",
       "      <td>0</td>\n",
       "      <td>9</td>\n",
       "    </tr>\n",
       "    <tr>\n",
       "      <th>197410</th>\n",
       "      <td>room a little small but adequate</td>\n",
       "      <td>0</td>\n",
       "      <td>6</td>\n",
       "    </tr>\n",
       "    <tr>\n",
       "      <th>197411</th>\n",
       "      <td>the room wasn t what wa described on website t...</td>\n",
       "      <td>0</td>\n",
       "      <td>22</td>\n",
       "    </tr>\n",
       "    <tr>\n",
       "      <th>197412</th>\n",
       "      <td>bed room service wa very late</td>\n",
       "      <td>0</td>\n",
       "      <td>6</td>\n",
       "    </tr>\n",
       "  </tbody>\n",
       "</table>\n",
       "<p>197413 rows × 3 columns</p>\n",
       "</div>"
      ],
      "text/plain": [
       "                                                   Review  is_positive  length\n",
       "0       they have followed through special request com...            1      15\n",
       "1       great location and very comfortable room room ...            1      22\n",
       "2       we had the most basic room which wa great valu...            1      16\n",
       "3       standard room are very comfortable good centra...            1       8\n",
       "4       very large room hidden courtyard view with bac...            1      24\n",
       "5                             location and room excellent            1       4\n",
       "6       guest svc manager francesco wa very helpful wi...            1      49\n",
       "7            room wa great bathroom wa immaculately clean            1       7\n",
       "8       room and bathroom excellent really comfortable...            1      77\n",
       "9       staff really friendly bed wa extremely comfy a...            1      35\n",
       "10      we were very pleased with the hotel and were e...            1      26\n",
       "11      room wa clean and well appointed location wa g...            1      26\n",
       "12      nice room modern and cool bar space in lobby v...            1      11\n",
       "13      being new in this area the conceierge service ...            1      30\n",
       "14      brilliant location so close to the tube room w...            1      31\n",
       "15      nice room nice presentation of hotel reception...            1       8\n",
       "16      the location wa excellent and within a decent ...            1     113\n",
       "17      we were offered an upgrade for a small supplem...            1      66\n",
       "18      very comfortable room spacious bathroom excell...            1       9\n",
       "19      easy to reach covent garden soho and city howe...            1      29\n",
       "20      book a room that come with access to the club ...            1      61\n",
       "21      although it s a fairly big hotel the overall v...            1      43\n",
       "22      very clean large room with high value toiletry...            1      15\n",
       "23      this is without question one of london finest ...            1      30\n",
       "24      great location room wa outstanding bed were so...            1      28\n",
       "25      the hotel gave u a complimentary upgrade to a ...            1      26\n",
       "26      the design facility and location of the hotel ...            1      15\n",
       "27      staff were lovely reception sent a card and a ...            1      44\n",
       "28      the bathroom wa light pleasant and very clean ...            1      23\n",
       "29      the room wa clean and comfortable bathroom wa ...            1      11\n",
       "...                                                   ...          ...     ...\n",
       "197383                                 very small bedroom            0       3\n",
       "197384  single bed wasn t at all comfortable next to w...            0      27\n",
       "197385                                                n a            0       2\n",
       "197386              having to pay to use the gym and pool            0       9\n",
       "197387                                    everything else            0       2\n",
       "197388  service charge being imposed even when sat at ...            0      10\n",
       "197389                                               none            0       1\n",
       "197390         the room wa tiny even after being upgraded            0       8\n",
       "197391  the staff are rude and you have to pay to use ...            0      22\n",
       "197392  booked a club executive room very disappointed...            0      24\n",
       "197393                                 had to pay to swim            0       5\n",
       "197394  incredibly small room spa and wifi come at add...            0      14\n",
       "197395  one of the lift wa broken so had to wait age a...            0      18\n",
       "197396                                         paid wi fi            0       3\n",
       "197397                                       no free wifi            0       3\n",
       "197398  room seemed small considering it wa advertised...            0      11\n",
       "197399                                small room no frill            0       4\n",
       "197400  the cost of wifi just a joke when you also exp...            0      19\n",
       "197401  room didn t look like the picture on booking c...            0      16\n",
       "197402                                          poor wifi            0       2\n",
       "197403                   8 00 cost for the use of the gym            0       9\n",
       "197404                                 room wa very small            0       4\n",
       "197405  this hotel wanted to charge for wi fi they als...            0      20\n",
       "197406     extremly small bathroom room not very spacious            0       7\n",
       "197407             10 for wifi even premier inn it s free            0       9\n",
       "197408                  breakfast satisfactory but boring            0       4\n",
       "197409   internet should never ever be payable in a hotel            0       9\n",
       "197410                   room a little small but adequate            0       6\n",
       "197411  the room wasn t what wa described on website t...            0      22\n",
       "197412                      bed room service wa very late            0       6\n",
       "\n",
       "[197413 rows x 3 columns]"
      ]
     },
     "execution_count": 23,
     "metadata": {},
     "output_type": "execute_result"
    }
   ],
   "source": [
    "# Replacing Review with lemmatized words\n",
    "nlpdf[\"Review\"] = trial1\n",
    "nlpdf[\"length\"] = nlpdf[\"Review\"].apply(lambda x: len(x.split(\" \")))\n",
    "nlpdf"
   ]
  },
  {
   "cell_type": "code",
   "execution_count": 24,
   "metadata": {},
   "outputs": [],
   "source": [
    "import scipy.stats as stats"
   ]
  },
  {
   "cell_type": "code",
   "execution_count": 25,
   "metadata": {
    "scrolled": true
   },
   "outputs": [
    {
     "data": {
      "text/plain": [
       "5                location and room excellent\n",
       "49                     location of the hotel\n",
       "77                        room and comfy bed\n",
       "401                      room size and style\n",
       "415         brilliant hotel perfect location\n",
       "444                    great value for money\n",
       "475                   all staff very helpful\n",
       "494             staff welcoming and engaging\n",
       "495            location and overall facility\n",
       "541         professional and attentive staff\n",
       "550       bathroom fabulous breakfast lovely\n",
       "556                      very new and modern\n",
       "572              great room very comfortable\n",
       "594                very nice outdoor terrace\n",
       "602               the staff were outstanding\n",
       "627           great location excellent staff\n",
       "640         very central location convenient\n",
       "656                    location hi spec room\n",
       "672                    the location wa ideal\n",
       "678                      loved the bath robe\n",
       "696                  location room and staff\n",
       "711                   great place great room\n",
       "751               good location fab facility\n",
       "762       everything especially the location\n",
       "763               great location for theatre\n",
       "776                  super space and comfort\n",
       "781             the great brithish breakfast\n",
       "790             nice room contemporary style\n",
       "802                       the room the staff\n",
       "805               great service and facility\n",
       "                         ...                \n",
       "197060               non complimentary wi fi\n",
       "197065                       we liked it all\n",
       "197135                    room wa very small\n",
       "197195                      room a bit small\n",
       "197202                cant think of anything\n",
       "197214          limited choice in restaurant\n",
       "197221                    room way too small\n",
       "197222                 double room too small\n",
       "197223                    room are too small\n",
       "197231                 room stank of smoking\n",
       "197261                  room wa really small\n",
       "197266                   room a little small\n",
       "197271                room were kinda shabby\n",
       "197273                  no breakfast or wifi\n",
       "197275                    room wa very small\n",
       "197276                   only 1 lift working\n",
       "197279                  compact room no wifi\n",
       "197300                   room a little dated\n",
       "197312                    the price of drink\n",
       "197315               the wifi wa eksspensive\n",
       "197323                  bathroom a bit small\n",
       "197335      some internet connectivity issue\n",
       "197339                    extra pay for wifi\n",
       "197341            wireless kept dropping out\n",
       "197352                 only one lift working\n",
       "197358                 nothing it wa perfect\n",
       "197366                  no laundry on sunday\n",
       "197399                   small room no frill\n",
       "197404                    room wa very small\n",
       "197408     breakfast satisfactory but boring\n",
       "Name: Review, Length: 9534, dtype: object"
      ]
     },
     "execution_count": 25,
     "metadata": {},
     "output_type": "execute_result"
    }
   ],
   "source": [
    "nlpdf[nlpdf[\"length\"] == 4][\"Review\"]"
   ]
  },
  {
   "cell_type": "code",
   "execution_count": 26,
   "metadata": {},
   "outputs": [
    {
     "data": {
      "image/png": "[encoded data removed]",
      "text/plain": [
       "<Figure size 432x288 with 1 Axes>"
      ]
     },
     "metadata": {},
     "output_type": "display_data"
    }
   ],
   "source": [
    "sns.violinplot(x=\"is_positive\", y=\"length\", data=nlpdf)\n",
    "plt.xlabel(\"Category of Reviews\")\n",
    "plt.ylabel(\"Length of Reviews\")\n",
    "plt.axhline(stats.mode(nlpdf[nlpdf[\"is_positive\"] == 0][\"length\"])[0][0], xmax=0.5, c=\"r\", ls=\"--\")\n",
    "plt.axhline(stats.mode(nlpdf[nlpdf[\"is_positive\"] == 1][\"length\"])[0][0], xmin=0.5, c=\"b\", ls=\"--\")\n",
    "plt.ylim(0, 100)\n",
    "plt.show()"
   ]
  },
  {
   "cell_type": "code",
   "execution_count": 27,
   "metadata": {},
   "outputs": [],
   "source": [
    "# Using VADER to analyse\n",
    "from vaderSentiment.vaderSentiment import SentimentIntensityAnalyzer\n",
    "analyser = SentimentIntensityAnalyzer()\n",
    "from sklearn.metrics import roc_curve, auc"
   ]
  },
  {
   "cell_type": "code",
   "execution_count": 28,
   "metadata": {},
   "outputs": [],
   "source": [
    "X = nndf[\"Review\"]\n",
    "y = nndf[\"is_positive\"]\n",
    "X_train2, X_test2, y_train2, y_test2 = train_test_split(X, y, stratify=y, random_state=randstate)"
   ]
  },
  {
   "cell_type": "code",
   "execution_count": 29,
   "metadata": {},
   "outputs": [],
   "source": [
    "# Special function to categorize if Positive or Negative for VADER\n",
    "def print_sentiment_scores(sentence):\n",
    "    snt = analyser.polarity_scores(sentence)\n",
    "    #print(sentence, snt)\n",
    "    if snt[\"neg\"] > snt[\"pos\"]:\n",
    "        tl.append(0)\n",
    "    elif snt[\"pos\"] > snt[\"neg\"]:\n",
    "        tl.append(1)\n",
    "    else:\n",
    "        if snt[\"compound\"] < 0:\n",
    "            tl.append(0)\n",
    "        else:\n",
    "            tl.append(1)"
   ]
  },
  {
   "cell_type": "code",
   "execution_count": 30,
   "metadata": {},
   "outputs": [],
   "source": [
    "tl = []\n",
    "for x in X_test2:\n",
    "    print_sentiment_scores(x)"
   ]
  },
  {
   "cell_type": "code",
   "execution_count": 31,
   "metadata": {},
   "outputs": [
    {
     "name": "stdout",
     "output_type": "stream",
     "text": [
      "TP 25615 TN 10730 FP 12785 FN 224\n"
     ]
    }
   ],
   "source": [
    "tp = 0\n",
    "fp = 0\n",
    "tn = 0\n",
    "fn = 0\n",
    "\n",
    "for z in range(0, len(y_test2)):\n",
    "    if (tl[z] == 0) and (y_test2.tolist()[z] == 0): #TN\n",
    "        tn += 1\n",
    "    elif (tl[z] == 1) and (y_test2.tolist()[z] == 0): #FP\n",
    "        fp += 1\n",
    "    elif (tl[z] == 0) and (y_test2.tolist()[z] == 1): #FN\n",
    "        fn += 1\n",
    "    elif (tl[z] == 1) and (y_test2.tolist()[z] == 1): #TP\n",
    "        tp += 1\n",
    "print(\"TP\", tp, \"TN\", tn, \"FP\", fp, \"FN\", fn)"
   ]
  },
  {
   "cell_type": "code",
   "execution_count": 32,
   "metadata": {},
   "outputs": [],
   "source": [
    "vd_pred = pd.Series(tl, index=y_test2.index)"
   ]
  },
  {
   "cell_type": "code",
   "execution_count": 33,
   "metadata": {},
   "outputs": [],
   "source": [
    "vdr_score = roc_auc_score(vd_pred, y_test2)"
   ]
  },
  {
   "cell_type": "code",
   "execution_count": 34,
   "metadata": {},
   "outputs": [],
   "source": [
    "X = nlpdf[\"Review\"]\n",
    "y = nlpdf[\"is_positive\"]"
   ]
  },
  {
   "cell_type": "code",
   "execution_count": 35,
   "metadata": {},
   "outputs": [],
   "source": [
    "X_train, X_test, y_train, y_test = train_test_split(X, y, test_size = 0.5, stratify = y, random_state=randstate)"
   ]
  },
  {
   "cell_type": "code",
   "execution_count": 36,
   "metadata": {},
   "outputs": [],
   "source": [
    "# Define a pipeline combining a text feature extractor with a simple\n",
    "# classifier\n",
    "pipeline = Pipeline([\n",
    "    ('vect', CountVectorizer(lowercase=True, stop_words=stop, ngram_range=(1, 2), strip_accents = 'unicode')),\n",
    "    ('tfidf', TfidfTransformer())\n",
    "])\n",
    "cvec = pipeline.get_params()[\"vect\"]"
   ]
  },
  {
   "cell_type": "code",
   "execution_count": 37,
   "metadata": {},
   "outputs": [],
   "source": [
    "X_train1 = pipeline.fit_transform(X_train)\n",
    "X_test1 = pipeline.transform(X_test)"
   ]
  },
  {
   "cell_type": "code",
   "execution_count": 62,
   "metadata": {},
   "outputs": [
    {
     "data": {
      "text/plain": [
       "0.9403560203263028"
      ]
     },
     "execution_count": 62,
     "metadata": {},
     "output_type": "execute_result"
    }
   ],
   "source": [
    "# Multinomial Naive Bayes\n",
    "mnd = MultinomialNB()\n",
    "mnd.fit(X_train1, y_train)\n",
    "y_pred = mnd.predict(X_test1)\n",
    "ymnd = mnd.predict_proba(X_test1)\n",
    "mnb_score = roc_auc_score(y_test, y_pred)\n",
    "mnb_score"
   ]
  },
  {
   "cell_type": "code",
   "execution_count": 56,
   "metadata": {},
   "outputs": [
    {
     "data": {
      "text/plain": [
       "0.9230414388324413"
      ]
     },
     "execution_count": 56,
     "metadata": {},
     "output_type": "execute_result"
    }
   ],
   "source": [
    "# RandomForest Classifier\n",
    "rfc = RandomForestClassifier(random_state=randstate, n_jobs=3)\n",
    "rfc.fit(X_train1, y_train)\n",
    "y_pred = rfc.predict(X_test1)\n",
    "yrfc = rfc.predict_proba(X_test1)\n",
    "rfc_score = roc_auc_score(y_test, y_pred)\n",
    "rfc_score"
   ]
  },
  {
   "cell_type": "code",
   "execution_count": 66,
   "metadata": {},
   "outputs": [
    {
     "data": {
      "text/plain": [
       "0.9428720139529416"
      ]
     },
     "execution_count": 66,
     "metadata": {},
     "output_type": "execute_result"
    }
   ],
   "source": [
    "# Logistic Regression\n",
    "lr = LogisticRegression(random_state=randstate)\n",
    "lr.fit(X_train1, y_train)\n",
    "y_pred = lr.predict(X_test1)\n",
    "ylr = lr.predict_proba(X_test1)\n",
    "lr_score = roc_auc_score(y_test, y_pred)\n",
    "lr_score"
   ]
  },
  {
   "cell_type": "code",
   "execution_count": 41,
   "metadata": {},
   "outputs": [
    {
     "data": {
      "text/plain": [
       "0.9831982451485916"
      ]
     },
     "execution_count": 41,
     "metadata": {},
     "output_type": "execute_result"
    }
   ],
   "source": [
    "cross_val_score(lr, X_train1, y_train, scoring ='roc_auc', cv=5).mean()"
   ]
  },
  {
   "cell_type": "code",
   "execution_count": 42,
   "metadata": {},
   "outputs": [],
   "source": [
    "# XGBoost not recommended for NLP"
   ]
  },
  {
   "cell_type": "code",
   "execution_count": 71,
   "metadata": {},
   "outputs": [
    {
     "name": "stdout",
     "output_type": "stream",
     "text": [
      "Fitting 3 folds for each of 40 candidates, totalling 120 fits\n"
     ]
    },
    {
     "name": "stderr",
     "output_type": "stream",
     "text": [
      "[Parallel(n_jobs=1)]: Done 120 out of 120 | elapsed:  4.3min finished\n"
     ]
    },
    {
     "data": {
      "text/plain": [
       "0.944990169339452"
      ]
     },
     "execution_count": 71,
     "metadata": {},
     "output_type": "execute_result"
    }
   ],
   "source": [
    "# GridSearch Parameters for Logistic Regression\n",
    "parameters = {\"penalty\": [\"l1\", \"l2\"],\n",
    "              \"C\": np.logspace(-1,1,20)}\n",
    "gs = GridSearchCV(lr, parameters, verbose=1, cv=3)\n",
    "gs.fit(X_train1, y_train)\n",
    "y_pred = gs.best_estimator_.predict(X_test1)\n",
    "ylrgs = gs.best_estimator_.predict_proba(X_test1)\n",
    "lrgs_score = roc_auc_score(y_test, y_pred)\n",
    "lrgs_score"
   ]
  },
  {
   "cell_type": "code",
   "execution_count": 44,
   "metadata": {},
   "outputs": [
    {
     "data": {
      "text/html": [
       "<div>\n",
       "<style scoped>\n",
       "    .dataframe tbody tr th:only-of-type {\n",
       "        vertical-align: middle;\n",
       "    }\n",
       "\n",
       "    .dataframe tbody tr th {\n",
       "        vertical-align: top;\n",
       "    }\n",
       "\n",
       "    .dataframe thead th {\n",
       "        text-align: right;\n",
       "    }\n",
       "</style>\n",
       "<table border=\"1\" class=\"dataframe\">\n",
       "  <thead>\n",
       "    <tr style=\"text-align: right;\">\n",
       "      <th></th>\n",
       "      <th>Tests</th>\n",
       "      <th>Score</th>\n",
       "    </tr>\n",
       "  </thead>\n",
       "  <tbody>\n",
       "    <tr>\n",
       "      <th>0</th>\n",
       "      <td>Baseline</td>\n",
       "      <td>0.523547</td>\n",
       "    </tr>\n",
       "    <tr>\n",
       "      <th>1</th>\n",
       "      <td>VADER</td>\n",
       "      <td>0.823304</td>\n",
       "    </tr>\n",
       "    <tr>\n",
       "      <th>2</th>\n",
       "      <td>Multinomial</td>\n",
       "      <td>0.940356</td>\n",
       "    </tr>\n",
       "    <tr>\n",
       "      <th>3</th>\n",
       "      <td>Random Forest</td>\n",
       "      <td>0.923041</td>\n",
       "    </tr>\n",
       "    <tr>\n",
       "      <th>4</th>\n",
       "      <td>Logistic Regression</td>\n",
       "      <td>0.942872</td>\n",
       "    </tr>\n",
       "    <tr>\n",
       "      <th>5</th>\n",
       "      <td>Logistic (GridSearch)</td>\n",
       "      <td>0.944990</td>\n",
       "    </tr>\n",
       "  </tbody>\n",
       "</table>\n",
       "</div>"
      ],
      "text/plain": [
       "                   Tests     Score\n",
       "0               Baseline  0.523547\n",
       "1                  VADER  0.823304\n",
       "2            Multinomial  0.940356\n",
       "3          Random Forest  0.923041\n",
       "4    Logistic Regression  0.942872\n",
       "5  Logistic (GridSearch)  0.944990"
      ]
     },
     "execution_count": 44,
     "metadata": {},
     "output_type": "execute_result"
    }
   ],
   "source": [
    "pd.DataFrame({\"Tests\": [\"Baseline\", \"VADER\", \"Multinomial\", \"Random Forest\", \"Logistic Regression\", \"Logistic (GridSearch)\"],\n",
    "              \"Score\": [baseline, vdr_score, mnb_score, rfc_score, lr_score, lrgs_score]})"
   ]
  },
  {
   "cell_type": "code",
   "execution_count": 45,
   "metadata": {},
   "outputs": [
    {
     "data": {
      "image/png": "[encoded data removed]",
      "text/plain": [
       "<Figure size 576x576 with 1 Axes>"
      ]
     },
     "metadata": {},
     "output_type": "display_data"
    }
   ],
   "source": [
    "# Plot of a ROC curve for class 1 (has_cancer).\n",
    "plt.figure(figsize=[8,8])\n",
    "\n",
    "plt.plot([0, 1], [0, 1], 'c--', linewidth=4)\n",
    "fpr, tpr, _ = roc_curve(y_test, ymnd[:,1])\n",
    "plt.plot(fpr, tpr, label='MNB (area = %0.4f)' % mnb_score, linewidth=2)\n",
    "\n",
    "plt.plot([0, 1], [0, 1], 'g--', linewidth=4)\n",
    "fpr, tpr, _ = roc_curve(y_test2, vd_pred)\n",
    "plt.plot(fpr, tpr, label='VADER (area = %0.4f)' % vdr_score, linewidth=2)\n",
    "\n",
    "plt.plot([0, 1], [0, 1], 'm--', linewidth=4)\n",
    "fpr, tpr, _ = roc_curve(y_test, yrfc[:,1])\n",
    "plt.plot(fpr, tpr, label='RF (area = %0.4f)' % rfc_score, linewidth=2)\n",
    "\n",
    "plt.plot([0, 1], [0, 1], 'r--', linewidth=4)\n",
    "fpr, tpr, _ = roc_curve(y_test, ylr[:,1])\n",
    "plt.plot(fpr, tpr, label='LogReg (area = %0.4f)' % lr_score, linewidth=2)\n",
    "\n",
    "plt.plot([0, 1], [0, 1], 'b--', linewidth=4)\n",
    "fpr, tpr, _ = roc_curve(y_test, ylrgs[:,1])\n",
    "plt.plot(fpr, tpr, label='LogReg GS (area = %0.4f)' % lrgs_score, linewidth=2)\n",
    "\n",
    "plt.plot([0, 1], [0, 1], 'k--', linewidth=4)\n",
    "plt.xlim([-0.05, 1.05])\n",
    "plt.ylim([-0.05, 1.05])\n",
    "plt.xlabel('False Positive Rate\\n(1 - Specificity)', fontsize=18)\n",
    "plt.ylabel('True Positive Rate\\n(Sensitivity)', fontsize=18)\n",
    "plt.title('Receiver Operating Characteristic', fontsize=18)\n",
    "plt.legend(loc=\"lower right\")\n",
    "plt.show()"
   ]
  },
  {
   "cell_type": "code",
   "execution_count": null,
   "metadata": {},
   "outputs": [],
   "source": []
  },
  {
   "cell_type": "code",
   "execution_count": 46,
   "metadata": {},
   "outputs": [],
   "source": [
    "from sklearn.metrics import confusion_matrix, classification_report"
   ]
  },
  {
   "cell_type": "code",
   "execution_count": 80,
   "metadata": {},
   "outputs": [
    {
     "data": {
      "text/plain": [
       "array([[44757,  2272],\n",
       "       [ 3189, 48489]], dtype=int64)"
      ]
     },
     "execution_count": 80,
     "metadata": {},
     "output_type": "execute_result"
    }
   ],
   "source": [
    "confusion_matrix(y_test, y_pred)"
   ]
  },
  {
   "cell_type": "code",
   "execution_count": 81,
   "metadata": {},
   "outputs": [
    {
     "data": {
      "text/plain": [
       "0.9516893831465691"
      ]
     },
     "execution_count": 81,
     "metadata": {},
     "output_type": "execute_result"
    }
   ],
   "source": [
    "recall = confusion_matrix(y_test, y_pred)[0][0] / (confusion_matrix(y_test, y_pred)[0][0] + confusion_matrix(y_test, y_pred)[0][1])\n",
    "recall"
   ]
  },
  {
   "cell_type": "code",
   "execution_count": 82,
   "metadata": {},
   "outputs": [
    {
     "data": {
      "text/plain": [
       "0.9334876736328369"
      ]
     },
     "execution_count": 82,
     "metadata": {},
     "output_type": "execute_result"
    }
   ],
   "source": [
    "precision = confusion_matrix(y_test, y_pred)[0][0] / (confusion_matrix(y_test, y_pred)[0][0] + confusion_matrix(y_test, y_pred)[1][0])\n",
    "precision"
   ]
  },
  {
   "cell_type": "code",
   "execution_count": 78,
   "metadata": {},
   "outputs": [],
   "source": [
    "from sklearn.metrics import recall_score, precision_score, f1_score"
   ]
  },
  {
   "cell_type": "code",
   "execution_count": 79,
   "metadata": {},
   "outputs": [
    {
     "data": {
      "text/plain": [
       "0.9382909555323349"
      ]
     },
     "execution_count": 79,
     "metadata": {},
     "output_type": "execute_result"
    }
   ],
   "source": [
    "recall_score(y_test, y_pred)"
   ]
  },
  {
   "cell_type": "code",
   "execution_count": 83,
   "metadata": {},
   "outputs": [
    {
     "data": {
      "text/plain": [
       "0.9552412285021966"
      ]
     },
     "execution_count": 83,
     "metadata": {},
     "output_type": "execute_result"
    }
   ],
   "source": [
    "precision_score(y_test, y_pred)"
   ]
  },
  {
   "cell_type": "code",
   "execution_count": 84,
   "metadata": {},
   "outputs": [
    {
     "data": {
      "text/plain": [
       "0.9446746431357452"
      ]
     },
     "execution_count": 84,
     "metadata": {},
     "output_type": "execute_result"
    }
   ],
   "source": [
    "f1_score(y_test, y_pred, average=\"micro\")"
   ]
  },
  {
   "cell_type": "code",
   "execution_count": 75,
   "metadata": {},
   "outputs": [
    {
     "name": "stdout",
     "output_type": "stream",
     "text": [
      "             precision    recall  f1-score   support\n",
      "\n",
      "          0       0.93      0.95      0.94     47029\n",
      "          1       0.96      0.94      0.95     51678\n",
      "\n",
      "avg / total       0.94      0.94      0.94     98707\n",
      "\n"
     ]
    }
   ],
   "source": [
    "print(classification_report(y_test, y_pred))"
   ]
  },
  {
   "cell_type": "code",
   "execution_count": 50,
   "metadata": {},
   "outputs": [
    {
     "data": {
      "text/plain": [
       "<matplotlib.axes._subplots.AxesSubplot at 0x293516ad940>"
      ]
     },
     "execution_count": 50,
     "metadata": {},
     "output_type": "execute_result"
    },
    {
     "data": {
      "image/png": "[encoded data removed]",
      "text/plain": [
       "<Figure size 432x288 with 1 Axes>"
      ]
     },
     "metadata": {},
     "output_type": "display_data"
    }
   ],
   "source": [
    "# Get the importance of words in reviews\n",
    "sum_words = X_test1.sum(axis=0)\n",
    "cvec = pipeline.get_params()[\"vect\"]\n",
    "words_freq = [(word, sum_words[0, idx]) for word, idx in cvec.vocabulary_.items()]\n",
    "words_freq = sorted(words_freq, key = lambda x: x[1], reverse=True)\n",
    "# Importance of words in both reviews\n",
    "pd.DataFrame(words_freq, columns=[\"word\", \"count\"]).head(10).set_index(\"word\").plot.barh()"
   ]
  },
  {
   "cell_type": "code",
   "execution_count": 51,
   "metadata": {},
   "outputs": [],
   "source": [
    "import re"
   ]
  },
  {
   "cell_type": "code",
   "execution_count": 52,
   "metadata": {},
   "outputs": [],
   "source": [
    "# Output Tester\n",
    "def detector(text):\n",
    "    text = re.sub('[^a-z\\s]', '', text.lower())\n",
    "    text = [\" \".join([lemmatizer.lemmatize(i.lower()) for i in text.split()])]\n",
    "    text = pipeline.transform(text)\n",
    "    print(lr.predict_proba(text)[0])\n",
    "    if lr.predict(text)[0] > 0:\n",
    "        print(\"Positive Comment!\")\n",
    "    else:\n",
    "        print(\"Negative Comment!\")"
   ]
  },
  {
   "cell_type": "code",
   "execution_count": 53,
   "metadata": {},
   "outputs": [
    {
     "name": "stdout",
     "output_type": "stream",
     "text": [
      "[0.96964941 0.03035059]\n",
      "Negative Comment!\n"
     ]
    }
   ],
   "source": [
    "detector(\"the hotel is very far away, cannot wait for the bus.\")"
   ]
  },
  {
   "cell_type": "code",
   "execution_count": 54,
   "metadata": {},
   "outputs": [
    {
     "name": "stdout",
     "output_type": "stream",
     "text": [
      "[0.07985833 0.92014167]\n",
      "Positive Comment!\n"
     ]
    }
   ],
   "source": [
    "detector(\"hotel is not very clean, but interesting\")"
   ]
  },
  {
   "cell_type": "code",
   "execution_count": 55,
   "metadata": {},
   "outputs": [
    {
     "name": "stdout",
     "output_type": "stream",
     "text": [
      "[0.17229383 0.82770617]\n",
      "Positive Comment!\n"
     ]
    }
   ],
   "source": [
    "detector(\"Easy to reach Covent Garden Soho and City. However the hotel is quite far away from Westminster. Room is clean comfy and nicely designed. Very nice couch good bath.\")"
   ]
  },
  {
   "cell_type": "code",
   "execution_count": null,
   "metadata": {},
   "outputs": [],
   "source": [
    "tttfff = [\"the room is small but clean\", \"joker is fun and happy\"]"
   ]
  },
  {
   "cell_type": "code",
   "execution_count": null,
   "metadata": {},
   "outputs": [],
   "source": [
    "for i in tttfff:\n",
    "    detector(i)"
   ]
  },
  {
   "cell_type": "markdown",
   "metadata": {},
   "source": [
    "### Trying out Keyword Extractor"
   ]
  },
  {
   "cell_type": "code",
   "execution_count": null,
   "metadata": {},
   "outputs": [],
   "source": [
    "text = [\"This breakfast is not good to eat, poor chef\"]\n",
    "text = [\" \".join([lemmatizer.lemmatize(i.lower()) for i in text[0].split()])]\n",
    "tf_idf_vector = pipeline.transform(text)\n",
    "feature_names = pipeline.get_params()[\"vect\"].get_feature_names()"
   ]
  },
  {
   "cell_type": "code",
   "execution_count": null,
   "metadata": {},
   "outputs": [],
   "source": [
    "def sort_coo(coo_matrix):\n",
    "    tuples = zip(coo_matrix.col, coo_matrix.data)\n",
    "    return sorted(tuples, key=lambda x: (x[1], x[0]), reverse=True)\n",
    " \n",
    "def extract_topn_from_vector(feature_names, sorted_items, topn=10):\n",
    "    \n",
    "    \"\"\"\n",
    "    Extract the feature names and TF-IDF scores of Top n items.\n",
    "       \n",
    "    \n",
    "    \"\"\"\n",
    "    \n",
    "    #use only topn items from vector\n",
    "    sorted_items = sorted_items[:topn]\n",
    " \n",
    "    score_vals = []\n",
    "    feature_vals = []\n",
    "    \n",
    "    # word index and corresponding tf-idf score\n",
    "    for idx, score in sorted_items:\n",
    "        \n",
    "        #keep track of feature name and its corresponding score\n",
    "        score_vals.append(round(score, 3))\n",
    "        feature_vals.append(feature_names[idx])\n",
    " \n",
    "    #create a tuples of feature,score\n",
    "    #results = zip(feature_vals,score_vals)\n",
    "    results= {}\n",
    "    for idx in range(len(feature_vals)):\n",
    "        results[feature_vals[idx]]=score_vals[idx]\n",
    "    \n",
    "    return results"
   ]
  },
  {
   "cell_type": "code",
   "execution_count": null,
   "metadata": {},
   "outputs": [],
   "source": [
    "#sort the tf-idf vectors by descending order of scores\n",
    "sorted_items=sort_coo(tf_idf_vector.tocoo())\n",
    " \n",
    "#extract only the top n; n here is 10\n",
    "keywords=extract_topn_from_vector(feature_names,sorted_items,10)\n",
    " \n",
    "# now print the results\n",
    "print(\"\\n=====Doc=====\")\n",
    "print(text[0])\n",
    "print(\"\\n===Keywords===\")\n",
    "for k in keywords:\n",
    "    print(k, keywords[k], end=\" | \")"
   ]
  },
  {
   "cell_type": "code",
   "execution_count": null,
   "metadata": {},
   "outputs": [],
   "source": [
    "from sklearn.feature_selection import chi2\n",
    "import numpy as np\n",
    "features = X_train1\n",
    "labels = y_train\n",
    "N = 2\n",
    "#for Product, category_id in sorted(category_to_id.items()):\n",
    "for word, idx in sorted(pipeline.get_params()[\"vect\"].vocabulary_.items()):\n",
    "    features_chi2 = chi2(features, labels == idx)\n",
    "    indices = np.argsort(features_chi2[0])\n",
    "    feature_names = np.array(pipeline.get_params()[\"vect\"].get_feature_names())[indices]\n",
    "    unigrams = [v for v in feature_names if len(v.split(' ')) == 1]\n",
    "    bigrams = [v for v in feature_names if len(v.split(' ')) == 2]\n",
    "    print(\"# '{}':\".format(word))\n",
    "    print(\"  . Most correlated unigrams:\\n. {}\".format('\\n. '.join(unigrams[-N:])))\n",
    "    print(\"  . Most correlated bigrams:\\n. {}\".format('\\n. '.join(bigrams[-N:])))"
   ]
  },
  {
   "cell_type": "code",
   "execution_count": null,
   "metadata": {},
   "outputs": [],
   "source": [
    "# Get the importance of words in reviews\n",
    "sum_words = X_test.sum(axis=0)\n",
    "cvec = pipeline.get_params()[\"vect\"]\n",
    "words_freq = [(word, sum_words[0, idx]) for word, idx in cvec.vocabulary_.items()]\n",
    "words_freq = sorted(words_freq, key = lambda x: x[1], reverse=True)\n",
    "# Importance of words in both reviews\n",
    "pd.DataFrame(words_freq, columns=[\"word\", \"count\"]).head(10).set_index(\"word\").plot.barh()"
   ]
  },
  {
   "cell_type": "code",
   "execution_count": null,
   "metadata": {},
   "outputs": [],
   "source": []
  },
  {
   "cell_type": "code",
   "execution_count": null,
   "metadata": {},
   "outputs": [],
   "source": []
  },
  {
   "cell_type": "markdown",
   "metadata": {},
   "source": [
    "### Recommender System Portion"
   ]
  },
  {
   "cell_type": "code",
   "execution_count": null,
   "metadata": {},
   "outputs": [],
   "source": [
    "# Imports\n",
    "import gzip\n",
    "import gensim\n",
    "from textblob import TextBlob"
   ]
  },
  {
   "cell_type": "code",
   "execution_count": null,
   "metadata": {},
   "outputs": [],
   "source": [
    "def sentiment(x):\n",
    "    sentiment = TextBlob(x)\n",
    "    return sentiment.sentiment.polarity"
   ]
  },
  {
   "cell_type": "code",
   "execution_count": null,
   "metadata": {},
   "outputs": [],
   "source": [
    "nlpdf['text_sentiment'] = nlpdf[\"Review\"].apply(sentiment)"
   ]
  },
  {
   "cell_type": "code",
   "execution_count": null,
   "metadata": {
    "scrolled": true
   },
   "outputs": [],
   "source": [
    "# Positive Reviews\n",
    "doc = nlpdf.loc[nlpdf[nlpdf[\"is_positive\"] == 1].index, \"Review\"].apply(lambda x: TextBlob(x.lower()).words)\n",
    "# Negative Reviews\n",
    "doc2 = nlpdf.loc[nlpdf[nlpdf[\"is_positive\"] == 0].index, \"Review\"].apply(lambda x: TextBlob(x.lower()).words)"
   ]
  },
  {
   "cell_type": "code",
   "execution_count": null,
   "metadata": {},
   "outputs": [],
   "source": [
    "model1 = gensim.models.Word2Vec(doc, size=150, window=10, min_count=2, workers=10)\n",
    "model1.train(doc, total_examples=len(doc), epochs=10)\n",
    "model2 = gensim.models.Word2Vec(doc2, size=150, window=10, min_count=2, workers=10)\n",
    "model2.train(doc2, total_examples=len(doc2), epochs=10)"
   ]
  },
  {
   "cell_type": "code",
   "execution_count": null,
   "metadata": {
    "scrolled": false
   },
   "outputs": [],
   "source": [
    "# Identifying words that are related to w1 under Positive Reviews\n",
    "w1 = [\"bedroom\"]\n",
    "model1.wv.most_similar(positive=w1,topn=15)"
   ]
  },
  {
   "cell_type": "code",
   "execution_count": null,
   "metadata": {},
   "outputs": [],
   "source": [
    "# Identifying words that are related to w1 under Negative Reviews\n",
    "model2.wv.most_similar(positive=w1,topn=15)"
   ]
  },
  {
   "cell_type": "code",
   "execution_count": null,
   "metadata": {},
   "outputs": [],
   "source": [
    "w2c = dict()\n",
    "for item in model1.wv.vocab:\n",
    "    w2c[item]=model1.wv.vocab[item].count"
   ]
  },
  {
   "cell_type": "code",
   "execution_count": null,
   "metadata": {},
   "outputs": [],
   "source": [
    "w2cSorted=dict(sorted(w2c.items(), key=lambda x: x[1],reverse=True))\n",
    "w2cSorted"
   ]
  },
  {
   "cell_type": "markdown",
   "metadata": {},
   "source": [
    "### Using Hotel Name to identify specific features"
   ]
  },
  {
   "cell_type": "code",
   "execution_count": null,
   "metadata": {},
   "outputs": [],
   "source": [
    "hotelname_var = \"Ritz Paris\""
   ]
  },
  {
   "cell_type": "code",
   "execution_count": null,
   "metadata": {
    "scrolled": true
   },
   "outputs": [],
   "source": [
    "df3 = hoteldf[hoteldf[\"Hotel_Name\"] == hotelname_var][[\"Negative_Review\", \"Positive_Review\"]]\n",
    "df3"
   ]
  },
  {
   "cell_type": "code",
   "execution_count": null,
   "metadata": {},
   "outputs": [],
   "source": [
    "negdoc = df3[\"Negative_Review\"].apply(lambda x: TextBlob(x.lower()).words)\n",
    "posdoc = df3[\"Positive_Review\"].apply(lambda x: TextBlob(x.lower()).words)"
   ]
  },
  {
   "cell_type": "code",
   "execution_count": null,
   "metadata": {},
   "outputs": [],
   "source": [
    "# extracting all keywords\n",
    "negtext = [[w for w in TextBlob(x.lower()).words if w not in stop] for x in df3[\"Negative_Review\"]]"
   ]
  },
  {
   "cell_type": "code",
   "execution_count": null,
   "metadata": {},
   "outputs": [],
   "source": [
    "model3 = gensim.models.Word2Vec(negdoc, size=100, window=5, min_count=2, workers=10)\n",
    "model3.train(negtext, total_examples=len(negdoc), epochs=10)"
   ]
  },
  {
   "cell_type": "code",
   "execution_count": null,
   "metadata": {},
   "outputs": [],
   "source": [
    "w1 = [\"room\"]\n",
    "model3.wv.most_similar(positive=w1,topn=15)"
   ]
  },
  {
   "cell_type": "code",
   "execution_count": null,
   "metadata": {},
   "outputs": [],
   "source": []
  },
  {
   "cell_type": "markdown",
   "metadata": {},
   "source": [
    "### Using WordCloud to present comments"
   ]
  },
  {
   "cell_type": "code",
   "execution_count": null,
   "metadata": {},
   "outputs": [],
   "source": [
    "from wordcloud import WordCloud\n",
    "import re\n",
    "from matplotlib.ticker import FormatStrFormatter"
   ]
  },
  {
   "cell_type": "code",
   "execution_count": null,
   "metadata": {},
   "outputs": [],
   "source": [
    "def preprocess(x):\n",
    "    \n",
    "    '''\n",
    "    Processes a string to remove any special characters & transforming to lowercase.\n",
    "    \n",
    "    Keyword arguments:\n",
    "    x  --  Text String\n",
    "    \n",
    "    '''\n",
    "    \n",
    "    x = re.sub('[^a-z\\s]', '', x.lower()) # get rid of noise\n",
    "    x = [w for w in x.split() if w not in set(stop)] # remove stopwords\n",
    "    return ' '.join(x) # then join the text again"
   ]
  },
  {
   "cell_type": "code",
   "execution_count": null,
   "metadata": {},
   "outputs": [],
   "source": [
    "def freq_words(document):\n",
    "    sum_words = cvec.transform(document).sum(axis=0)\n",
    "    words_freq = [(word, sum_words[0, idx]) for word, idx in cvec.vocabulary_.items()]\n",
    "    words_freq = sorted(words_freq, key = lambda x: x[1], reverse=True)\n",
    "    return words_freq"
   ]
  },
  {
   "cell_type": "code",
   "execution_count": null,
   "metadata": {},
   "outputs": [],
   "source": [
    "def takeSecond(elem):\n",
    "    return elem[1]"
   ]
  },
  {
   "cell_type": "code",
   "execution_count": null,
   "metadata": {},
   "outputs": [],
   "source": [
    "# Function to check reviews of specific hotel\n",
    "def wordcloud_hotel(hotelname_var, displaycount=False):\n",
    "    \n",
    "    '''\n",
    "    Generates two WordClouds for a specific Hotel, consisting of Negative Keywords and Positive Keywords.\n",
    "    \n",
    "    Keyword arguments:\n",
    "    hotelname_var  --  insert Hotel Name as String\n",
    "    displaycount   -- displays Top 5 Keywords for both Negative and Positive reviews\n",
    "    \n",
    "    '''\n",
    "    \n",
    "    # limit scope of reviews\n",
    "    df3 = hoteldf[hoteldf[\"Hotel_Name\"] == hotelname_var][[\"Negative_Review\", \"Positive_Review\"]]\n",
    "    negdoc = df3[\"Negative_Review\"].apply(preprocess)\n",
    "    posdoc = df3[\"Positive_Review\"].apply(preprocess)\n",
    "    \n",
    "    # declare our figure \n",
    "    plt.subplots(1, 2, figsize=(28,10))\n",
    "    \n",
    "    # Negative Words WordCloud\n",
    "    plt.subplot(121, facecolor='yellow')\n",
    "    # Generate WordCloud\n",
    "    wc = WordCloud(width=1600, height=800, random_state=randstate, max_words=2000, background_color=\"white\")\n",
    "    wc.generate(str(negdoc))\n",
    "    # add title to the graph\n",
    "    plt.title(\"Negative Keywords about {}\".format(hotelname_var), fontsize=30, color='black')\n",
    "    plt.imshow(wc, interpolation='bilinear')\n",
    "    plt.axis('off')\n",
    "    plt.tight_layout(pad=10)\n",
    "\n",
    "    # Positive Words WordCloud\n",
    "    plt.subplot(122, facecolor='blue')\n",
    "    wc = WordCloud(width=1600, height=800, random_state=randstate, max_words=2000, background_color=\"white\")\n",
    "    # Generate WordCloud\n",
    "    wc.generate(str(posdoc))\n",
    "    # Add Title\n",
    "    plt.title(\"Positive Keywords about {}\".format(hotelname_var), fontsize=30, color='black')\n",
    "    plt.imshow(wc, interpolation='bilinear')\n",
    "    plt.axis('off')\n",
    "    plt.tight_layout(pad=2)\n",
    "    plt.show()\n",
    "    \n",
    "    if displaycount == True:\n",
    "        # Generate Keywords Frequency\n",
    "        print(\"Top 5 Negative Words:\", sorted(freq_words(negdoc), key=takeSecond, reverse=True)[0:5])\n",
    "        print(\"Top 5 Positive Words:\", sorted(freq_words(posdoc), key=takeSecond, reverse=True)[0:5])"
   ]
  },
  {
   "cell_type": "code",
   "execution_count": null,
   "metadata": {},
   "outputs": [],
   "source": [
    "wordcloud_hotel(\"Hotel The Serras\", True)"
   ]
  },
  {
   "cell_type": "code",
   "execution_count": null,
   "metadata": {},
   "outputs": [],
   "source": [
    "# Function to check reviews of hotel in the state in general\n",
    "def wordcloud_state(hotelstate_var, displaycount=False):\n",
    "    \n",
    "    '''\n",
    "    Generates two WordClouds for a specific state, consisting of Negative Keywords and Positive Keywords.\n",
    "    \n",
    "    Keyword arguments:\n",
    "    hotelstate_var  -- insert State Name as String\n",
    "    displaycount    -- displays Top 5 Keywords for both Negative and Positive reviews\n",
    "    \n",
    "    '''\n",
    "    \n",
    "    # Check if State is present in the data\n",
    "    if hotelstate_var.capitalize() not in hoteldf[\"Hotel_State\"].unique():\n",
    "        print(\"SelectionError: Please select from the following States -\", \" / \".join(hoteldf[\"Hotel_State\"].unique().tolist()))\n",
    "    else:\n",
    "        # limit scope of reviews\n",
    "        df3 = hoteldf[hoteldf[\"Hotel_State\"] == hotelstate_var.capitalize()][[\"Negative_Review\", \"Positive_Review\"]]\n",
    "        negdoc = df3[\"Negative_Review\"].apply(preprocess)\n",
    "        posdoc = df3[\"Positive_Review\"].apply(preprocess)\n",
    "\n",
    "        # declare our figure \n",
    "        plt.subplots(1, 2, figsize=(25,10))\n",
    "\n",
    "        # Negative Words WordCloud\n",
    "        plt.subplot(121, facecolor='yellow')\n",
    "        # Generate WordCloud\n",
    "        wc = WordCloud(width=1600, height=800, random_state=randstate, max_words=2000, background_color=\"white\")\n",
    "        wc.generate(str(negdoc))\n",
    "        # add title to the graph\n",
    "        plt.title(\"Negative Keywords about hotels in {}\".format(hotelstate_var.capitalize()), fontsize=30, color='black')\n",
    "        plt.imshow(wc, interpolation='bilinear')\n",
    "        plt.axis('off')\n",
    "        plt.tight_layout(pad=10)\n",
    "\n",
    "        # Positive Words WordCloud\n",
    "        plt.subplot(122, facecolor='blue')\n",
    "        wc = WordCloud(width=1600, height=800, random_state=randstate, max_words=2000, background_color=\"white\")\n",
    "        # Generate WordCloud\n",
    "        wc.generate(str(posdoc))\n",
    "        # Add Title\n",
    "        plt.title(\"Positive Keywords about hotels in {}\".format(hotelstate_var.capitalize()), fontsize=30, color='black')\n",
    "        plt.imshow(wc, interpolation='bilinear')\n",
    "        plt.axis('off')\n",
    "        plt.tight_layout(pad=4)\n",
    "        plt.show()\n",
    "        \n",
    "        if displaycount == True:\n",
    "            # Generate Keywords Frequency\n",
    "            print(\"Top 5 Negative Words:\", sorted(freq_words(negdoc), key=takeSecond, reverse=True)[0:5])\n",
    "            print(\"Top 5 Positive Words:\", sorted(freq_words(posdoc), key=takeSecond, reverse=True)[0:5])"
   ]
  },
  {
   "cell_type": "code",
   "execution_count": null,
   "metadata": {},
   "outputs": [],
   "source": [
    "wordcloud_state(\"netherlands\", True)"
   ]
  },
  {
   "cell_type": "code",
   "execution_count": null,
   "metadata": {},
   "outputs": [],
   "source": [
    "# Function to check reviews of hotel in the state in general\n",
    "def wordcloud_origin(origin_var, displaycount=False):\n",
    "    \n",
    "    '''\n",
    "    Generates two WordClouds for reviews from a specific country, consisting of Negative Keywords and Positive Keywords.\n",
    "    \n",
    "    Keyword arguments:\n",
    "    hotelstate_var  -- insert Country Name as String\n",
    "    displaycount    -- displays Top 5 Keywords for both Negative and Positive reviews\n",
    "    \n",
    "    '''\n",
    "    \n",
    "    # Check if State is present in the data\n",
    "    if origin_var.lower() not in hoteldf[\"Reviewer_Nationality\"].apply(preprocess).unique():\n",
    "        print(\"SelectionError: Please select from the following States -\", \" / \".join(hoteldf[\"Reviewer_Nationality\"].apply(preprocess).unique().tolist()))\n",
    "    else:\n",
    "        # limit scope of reviews\n",
    "        df3 = hoteldf[hoteldf[\"Reviewer_Nationality\"].apply(preprocess) == origin_var.lower()][[\"Negative_Review\", \"Positive_Review\"]]\n",
    "        negdoc = df3[\"Negative_Review\"].apply(preprocess)\n",
    "        posdoc = df3[\"Positive_Review\"].apply(preprocess)\n",
    "\n",
    "        # declare our figure \n",
    "        plt.subplots(1, 2, figsize=(25,10))\n",
    "\n",
    "        # Negative Words WordCloud\n",
    "        plt.subplot(121, facecolor='yellow')\n",
    "        # Generate WordCloud\n",
    "        wc = WordCloud(width=1600, height=800, random_state=randstate, max_words=2000, background_color=\"white\")\n",
    "        wc.generate(str(negdoc))\n",
    "        # add title to the graph\n",
    "        plt.title(\"Negative Keywords by Guests from {}\".format(origin_var.capitalize()), fontsize=30, color='black')\n",
    "        plt.imshow(wc, interpolation='bilinear')\n",
    "        plt.axis('off')\n",
    "        plt.tight_layout(pad=10)\n",
    "\n",
    "        # Positive Words WordCloud\n",
    "        plt.subplot(122, facecolor='blue')\n",
    "        wc = WordCloud(width=1600, height=800, random_state=randstate, max_words=2000, background_color=\"white\")\n",
    "        # Generate WordCloud\n",
    "        wc.generate(str(posdoc))\n",
    "        # Add Title\n",
    "        plt.title(\"Positive Keywords by Guests from {}\".format(origin_var.capitalize()), fontsize=30, color='black')\n",
    "        plt.imshow(wc, interpolation='bilinear')\n",
    "        plt.axis('off')\n",
    "        plt.tight_layout(pad=4)\n",
    "        plt.show()\n",
    "        \n",
    "        if displaycount == True:\n",
    "            # Generate Keywords Frequency\n",
    "            print(\"Top 5 Negative Words:\", sorted(freq_words(negdoc), key=takeSecond, reverse=True)[0:5])\n",
    "            print(\"Top 5 Positive Words:\", sorted(freq_words(posdoc), key=takeSecond, reverse=True)[0:5])"
   ]
  },
  {
   "cell_type": "code",
   "execution_count": null,
   "metadata": {},
   "outputs": [],
   "source": [
    "wordcloud_origin(\"Taiwan\", True)"
   ]
  },
  {
   "cell_type": "code",
   "execution_count": null,
   "metadata": {},
   "outputs": [],
   "source": []
  },
  {
   "cell_type": "code",
   "execution_count": null,
   "metadata": {},
   "outputs": [],
   "source": []
  },
  {
   "cell_type": "code",
   "execution_count": null,
   "metadata": {},
   "outputs": [],
   "source": []
  },
  {
   "cell_type": "markdown",
   "metadata": {},
   "source": [
    "### Topic Modelling"
   ]
  },
  {
   "cell_type": "code",
   "execution_count": null,
   "metadata": {},
   "outputs": [],
   "source": [
    "# Load the LDA model from sk-learn\n",
    "from sklearn.decomposition import LatentDirichletAllocation as LDA"
   ]
  },
  {
   "cell_type": "code",
   "execution_count": null,
   "metadata": {},
   "outputs": [],
   "source": [
    "import warnings\n",
    "warnings.simplefilter(\"ignore\", DeprecationWarning)\n",
    " \n",
    "# Helper function\n",
    "def print_topics(model, count_vectorizer, n_top_words):\n",
    "    words = pipeline.get_params()[\"vect\"].get_feature_names()\n",
    "    for topic_idx, topic in enumerate(model.components_):\n",
    "        print(\"\\nTopic #%d:\" % topic_idx)\n",
    "        print(\" \".join([words[i]\n",
    "                        for i in topic.argsort()[:-n_top_words - 1:-1]]))\n",
    "        \n",
    "# Tweak the two parameters below (use int values below 15)\n",
    "number_topics = 10\n",
    "number_words = 2\n",
    "\n",
    "# Create and fit the LDA model\n",
    "lda = LDA(n_components=number_topics)\n",
    "lda.fit(pipeline.get_params()[\"vect\"].transform(negdoc))\n",
    "\n",
    "# Print the topics found by the LDA model\n",
    "print(\"Topics found via LDA:\")\n",
    "print_topics(lda, pipeline.get_params()[\"vect\"], number_words)"
   ]
  },
  {
   "cell_type": "markdown",
   "metadata": {},
   "source": [
    "### Trying NMF"
   ]
  },
  {
   "cell_type": "code",
   "execution_count": null,
   "metadata": {},
   "outputs": [],
   "source": [
    "from sklearn.decomposition import NMF\n",
    "from sklearn.preprocessing import normalize"
   ]
  },
  {
   "cell_type": "code",
   "execution_count": null,
   "metadata": {},
   "outputs": [],
   "source": [
    "nmfsentences = [\" \".join(text) for text in negdoc]"
   ]
  },
  {
   "cell_type": "code",
   "execution_count": null,
   "metadata": {},
   "outputs": [],
   "source": [
    "vectorizer = CountVectorizer(analyzer='word', max_features=5000)\n",
    "x_counts = vectorizer.fit_transform(negdoc)\n",
    "transformer = TfidfTransformer(smooth_idf=False)\n",
    "x_tfidf = transformer.fit_transform(x_counts)\n",
    "xtfidf_norm = normalize(x_tfidf, norm='l1', axis=1)"
   ]
  },
  {
   "cell_type": "code",
   "execution_count": null,
   "metadata": {},
   "outputs": [],
   "source": [
    "#obtain a NMF model.\n",
    "model = NMF(n_components=10, init='nndsvd')\n",
    "model.fit(xtfidf_norm)\n",
    "def get_nmf_topics(model, n_top_words):\n",
    "    \n",
    "    #the word ids obtained need to be reverse-mapped to the words so we can print the topic names.\n",
    "    feat_names = vectorizer.get_feature_names()\n",
    "    \n",
    "    word_dict = {};\n",
    "    for i in range(10):\n",
    "        \n",
    "        #for each topic, obtain the largest values, and add the words they map to into the dictionary.\n",
    "        words_ids = model.components_[i].argsort()[:-20 - 1:-1]\n",
    "        words = [feat_names[key] for key in words_ids]\n",
    "        word_dict['Topic # ' + '{:02d}'.format(i+1)] = words;\n",
    "    \n",
    "    return pd.DataFrame(word_dict)"
   ]
  },
  {
   "cell_type": "code",
   "execution_count": null,
   "metadata": {
    "scrolled": true
   },
   "outputs": [],
   "source": [
    "get_nmf_topics(model, 10)"
   ]
  },
  {
   "cell_type": "code",
   "execution_count": null,
   "metadata": {},
   "outputs": [],
   "source": []
  }
 ],
 "metadata": {
  "kernelspec": {
   "display_name": "Python 3",
   "language": "python",
   "name": "python3"
  },
  "language_info": {
   "codemirror_mode": {
    "name": "ipython",
    "version": 3
   },
   "file_extension": ".py",
   "mimetype": "text/x-python",
   "name": "python",
   "nbconvert_exporter": "python",
   "pygments_lexer": "ipython3",
   "version": "3.6.5"
  }
 },
 "nbformat": 4,
 "nbformat_minor": 2
}
